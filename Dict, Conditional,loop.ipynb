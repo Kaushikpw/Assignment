{
 "cells": [
  {
   "cell_type": "code",
   "execution_count": 1,
   "id": "ca91957b-787b-4391-92c3-c72535c004ef",
   "metadata": {},
   "outputs": [],
   "source": [
    "d = {}"
   ]
  },
  {
   "cell_type": "code",
   "execution_count": 2,
   "id": "724d801c-c22b-4c36-8a95-b04095fd3a2a",
   "metadata": {},
   "outputs": [
    {
     "data": {
      "text/plain": [
       "dict"
      ]
     },
     "execution_count": 2,
     "metadata": {},
     "output_type": "execute_result"
    }
   ],
   "source": [
    "type(d)"
   ]
  },
  {
   "cell_type": "code",
   "execution_count": 3,
   "id": "e7946a80-cff2-4b1d-999b-d0f71d1aecfe",
   "metadata": {},
   "outputs": [],
   "source": [
    "d1 = {'key' : \"Kaush\"}"
   ]
  },
  {
   "cell_type": "code",
   "execution_count": 4,
   "id": "b2c09084-d5c8-474f-b20f-0f441cbbe9ee",
   "metadata": {},
   "outputs": [
    {
     "data": {
      "text/plain": [
       "{'key': 'Kaush'}"
      ]
     },
     "execution_count": 4,
     "metadata": {},
     "output_type": "execute_result"
    }
   ],
   "source": [
    "d1"
   ]
  },
  {
   "cell_type": "code",
   "execution_count": 5,
   "id": "f18b8f79-af12-44cb-bb3a-da9941567444",
   "metadata": {},
   "outputs": [],
   "source": [
    "d2 = {'name' : \"Kaushik\", 'email' : \"kk.08@gmail.com\", 'number' : 878521446}"
   ]
  },
  {
   "cell_type": "code",
   "execution_count": 6,
   "id": "da08d292-667f-41d7-a222-6e492f3e914b",
   "metadata": {},
   "outputs": [
    {
     "data": {
      "text/plain": [
       "{'name': 'Kaushik', 'email': 'kk.08@gmail.com', 'number': 878521446}"
      ]
     },
     "execution_count": 6,
     "metadata": {},
     "output_type": "execute_result"
    }
   ],
   "source": [
    "d2"
   ]
  },
  {
   "cell_type": "code",
   "execution_count": 13,
   "id": "fe280ab6-a0e7-4975-affe-cbf228af3ed3",
   "metadata": {},
   "outputs": [],
   "source": [
    "d3 = {567 : \"Kaushik\" , \"@wtf\" : \"Yogesh\", True:3587914}"
   ]
  },
  {
   "cell_type": "code",
   "execution_count": 14,
   "id": "4123ce25-b981-4a2c-a652-680ff7362762",
   "metadata": {},
   "outputs": [
    {
     "data": {
      "text/plain": [
       "{567: 'Kaushik', '@wtf': 'Yogesh', True: 3587914}"
      ]
     },
     "execution_count": 14,
     "metadata": {},
     "output_type": "execute_result"
    }
   ],
   "source": [
    "d3"
   ]
  },
  {
   "cell_type": "code",
   "execution_count": 17,
   "id": "72b7e84b-4f9e-441c-a482-76ec9f1ebe89",
   "metadata": {},
   "outputs": [
    {
     "data": {
      "text/plain": [
       "'Kaushik'"
      ]
     },
     "execution_count": 17,
     "metadata": {},
     "output_type": "execute_result"
    }
   ],
   "source": [
    "d3[567]"
   ]
  },
  {
   "cell_type": "code",
   "execution_count": 18,
   "id": "87d70673-0469-4966-b9e7-fdf3e17b0cba",
   "metadata": {},
   "outputs": [
    {
     "data": {
      "text/plain": [
       "3587914"
      ]
     },
     "execution_count": 18,
     "metadata": {},
     "output_type": "execute_result"
    }
   ],
   "source": [
    "d3[True]"
   ]
  },
  {
   "cell_type": "code",
   "execution_count": 20,
   "id": "1a9c2697-774f-4f2e-b2a4-b2e5ee52aa61",
   "metadata": {},
   "outputs": [
    {
     "data": {
      "text/plain": [
       "3587914"
      ]
     },
     "execution_count": 20,
     "metadata": {},
     "output_type": "execute_result"
    }
   ],
   "source": [
    "d3[1]\n",
    "#1 is equals to True"
   ]
  },
  {
   "cell_type": "code",
   "execution_count": 21,
   "id": "55257a78-ab96-4efe-96c6-ec8fd9368322",
   "metadata": {},
   "outputs": [],
   "source": [
    "d4 = {'name':\"Kaushik\" , 'Email_id':\"kk08@gmail.com\" , 'name':\"Kaush\"}"
   ]
  },
  {
   "cell_type": "code",
   "execution_count": 22,
   "id": "67c541db-a7a0-4caf-b94e-be9600742eee",
   "metadata": {},
   "outputs": [
    {
     "data": {
      "text/plain": [
       "'Kaush'"
      ]
     },
     "execution_count": 22,
     "metadata": {},
     "output_type": "execute_result"
    }
   ],
   "source": [
    "d4['name']"
   ]
  },
  {
   "cell_type": "code",
   "execution_count": 23,
   "id": "ba2de170-fb69-48fa-b281-69f789a77590",
   "metadata": {},
   "outputs": [],
   "source": [
    "#Why?\n",
    "#Key must be unique if not there will be an Overwrite "
   ]
  },
  {
   "cell_type": "code",
   "execution_count": 24,
   "id": "efb4c9da-3c88-4987-8c4e-627c5de07128",
   "metadata": {},
   "outputs": [],
   "source": [
    "d5 = {'Company' : \"pwskills\" , 'Course' : [\"web dev\" , \"data science\" , \"Java\"]}"
   ]
  },
  {
   "cell_type": "code",
   "execution_count": 25,
   "id": "13eff523-4d4e-42d4-a8d7-2eb1ff6b34d6",
   "metadata": {},
   "outputs": [
    {
     "data": {
      "text/plain": [
       "{'Company': 'pwskills', 'Course': ['web dev', 'data science', 'Java']}"
      ]
     },
     "execution_count": 25,
     "metadata": {},
     "output_type": "execute_result"
    }
   ],
   "source": [
    "d5"
   ]
  },
  {
   "cell_type": "code",
   "execution_count": 27,
   "id": "79c8a413-7662-47eb-9e7e-f4527415ff64",
   "metadata": {},
   "outputs": [
    {
     "data": {
      "text/plain": [
       "'pwskills'"
      ]
     },
     "execution_count": 27,
     "metadata": {},
     "output_type": "execute_result"
    }
   ],
   "source": [
    "d5['Company']"
   ]
  },
  {
   "cell_type": "code",
   "execution_count": 28,
   "id": "0ad07939-b25f-4ce5-9f53-8c5c76ae2084",
   "metadata": {},
   "outputs": [
    {
     "data": {
      "text/plain": [
       "['web dev', 'data science', 'Java']"
      ]
     },
     "execution_count": 28,
     "metadata": {},
     "output_type": "execute_result"
    }
   ],
   "source": [
    "d5['Course']"
   ]
  },
  {
   "cell_type": "code",
   "execution_count": 30,
   "id": "1c69e6f0-003b-4265-a90e-961d960b1d2e",
   "metadata": {},
   "outputs": [
    {
     "data": {
      "text/plain": [
       "'data science'"
      ]
     },
     "execution_count": 30,
     "metadata": {},
     "output_type": "execute_result"
    }
   ],
   "source": [
    "d5['Course'][1]\n",
    "#indexing"
   ]
  },
  {
   "cell_type": "code",
   "execution_count": 21,
   "id": "59986e71-1021-44b0-9e95-f9196dc97431",
   "metadata": {},
   "outputs": [],
   "source": [
    "d6 = {'number': [2, 37, 25, 37, 3],\n",
    " 'assignment': [1, 2, 3, 4, 5, 6],\n",
    " 'launch_date': [28, 30, 12],\n",
    " 'class_time': {'web dev': 9, 'Java': 6, 'Data Science Masters': 8}} "
   ]
  },
  {
   "cell_type": "code",
   "execution_count": 22,
   "id": "f5e7b359-53c5-4f82-9c4a-4182a277b933",
   "metadata": {},
   "outputs": [
    {
     "data": {
      "text/plain": [
       "{'number': [2, 37, 25, 37, 3],\n",
       " 'assignment': [1, 2, 3, 4, 5, 6],\n",
       " 'launch_date': [28, 30, 12],\n",
       " 'class_time': {'web dev': 9, 'Java': 6, 'Data Science Masters': 8}}"
      ]
     },
     "execution_count": 22,
     "metadata": {},
     "output_type": "execute_result"
    }
   ],
   "source": [
    "d6"
   ]
  },
  {
   "cell_type": "code",
   "execution_count": 23,
   "id": "eed60e5a-307e-4df0-94c1-b0182bcaf4b3",
   "metadata": {},
   "outputs": [
    {
     "data": {
      "text/plain": [
       "{'web dev': 9, 'Java': 6, 'Data Science Masters': 8}"
      ]
     },
     "execution_count": 23,
     "metadata": {},
     "output_type": "execute_result"
    }
   ],
   "source": [
    "d6[\"class_time\"]"
   ]
  },
  {
   "cell_type": "code",
   "execution_count": 31,
   "id": "e1eb721c-4ec9-49f6-8cae-9862a048b855",
   "metadata": {},
   "outputs": [
    {
     "data": {
      "text/plain": [
       "6"
      ]
     },
     "execution_count": 31,
     "metadata": {},
     "output_type": "execute_result"
    }
   ],
   "source": [
    "d6['class_time']['Java']"
   ]
  },
  {
   "cell_type": "code",
   "execution_count": 37,
   "id": "39c32343-9262-44fb-a18c-98eb7971129b",
   "metadata": {},
   "outputs": [],
   "source": [
    "d6['mentor'] = ['Sudhanshu', 'Krish', 'Anurag', 'Hyder']"
   ]
  },
  {
   "cell_type": "code",
   "execution_count": 38,
   "id": "a83eae63-9138-4a07-a660-f0c4476d51ea",
   "metadata": {},
   "outputs": [
    {
     "data": {
      "text/plain": [
       "{'number': [2, 37, 25, 37, 3],\n",
       " 'assignment': [1, 2, 3, 4, 5, 6],\n",
       " 'launch_date': [28, 30, 12],\n",
       " 'class_time': {'web dev': 9, 'Java': 6, 'Data Science Masters': 8},\n",
       " 'mentor': ['Sudhanshu', 'Krish', 'Anurag', 'Hyder']}"
      ]
     },
     "execution_count": 38,
     "metadata": {},
     "output_type": "execute_result"
    }
   ],
   "source": [
    "d6"
   ]
  },
  {
   "cell_type": "code",
   "execution_count": 29,
   "id": "152a4703-0423-46a3-90c8-0f41ff8ab4ca",
   "metadata": {},
   "outputs": [
    {
     "data": {
      "text/plain": [
       "{'number': [2, 37, 25, 37, 3],\n",
       " 'assignment': [1, 2, 3, 4, 5, 6],\n",
       " 'launch_date': [28, 30, 12],\n",
       " 'class_time': {'web dev': 9, 'Java': 6, 'Data Science Masters': 8}}"
      ]
     },
     "execution_count": 29,
     "metadata": {},
     "output_type": "execute_result"
    }
   ],
   "source": [
    "d6"
   ]
  },
  {
   "cell_type": "code",
   "execution_count": 50,
   "id": "efe545ab-f437-4a88-b046-470248d97094",
   "metadata": {},
   "outputs": [
    {
     "data": {
      "text/plain": [
       "['assignment', 'launch_date', 'class_time', 'mentor']"
      ]
     },
     "execution_count": 50,
     "metadata": {},
     "output_type": "execute_result"
    }
   ],
   "source": [
    "d6.keys()"
   ]
  },
  {
   "cell_type": "code",
   "execution_count": 59,
   "id": "85341849-4133-4330-ac8c-81a9c7f499e3",
   "metadata": {},
   "outputs": [
    {
     "data": {
      "text/plain": [
       "['assignment', 'launch_date', 'class_time', 'mentor']"
      ]
     },
     "execution_count": 59,
     "metadata": {},
     "output_type": "execute_result"
    }
   ],
   "source": [
    "list(d6.keys())"
   ]
  },
  {
   "cell_type": "code",
   "execution_count": 57,
   "id": "2a4d74d5-4a86-49f2-8f23-12b9a8ebdf86",
   "metadata": {},
   "outputs": [
    {
     "data": {
      "text/plain": [
       "dict_values([[1, 2, 3, 4, 5, 6], [28, 30, 12], {'web dev': 9, 'Java': 6, 'Data Science Masters': 8}, ['Sudhanshu', 'Krish', 'Anurag', 'Hyder']])"
      ]
     },
     "execution_count": 57,
     "metadata": {},
     "output_type": "execute_result"
    }
   ],
   "source": [
    "d6.values()"
   ]
  },
  {
   "cell_type": "code",
   "execution_count": 58,
   "id": "8b444cf5-3d6f-45a1-8745-f0b566933c31",
   "metadata": {},
   "outputs": [
    {
     "data": {
      "text/plain": [
       "[[1, 2, 3, 4, 5, 6],\n",
       " [28, 30, 12],\n",
       " {'web dev': 9, 'Java': 6, 'Data Science Masters': 8},\n",
       " ['Sudhanshu', 'Krish', 'Anurag', 'Hyder']]"
      ]
     },
     "execution_count": 58,
     "metadata": {},
     "output_type": "execute_result"
    }
   ],
   "source": [
    "list(d6.values())"
   ]
  },
  {
   "cell_type": "code",
   "execution_count": 55,
   "id": "274dfee6-d02e-4cae-b694-642c1cd09587",
   "metadata": {},
   "outputs": [
    {
     "data": {
      "text/plain": [
       "dict_items([('assignment', [1, 2, 3, 4, 5, 6]), ('launch_date', [28, 30, 12]), ('class_time', {'web dev': 9, 'Java': 6, 'Data Science Masters': 8}), ('mentor', ['Sudhanshu', 'Krish', 'Anurag', 'Hyder'])])"
      ]
     },
     "execution_count": 55,
     "metadata": {},
     "output_type": "execute_result"
    }
   ],
   "source": [
    "d6.items()"
   ]
  },
  {
   "cell_type": "code",
   "execution_count": 60,
   "id": "fa80156f-5ebb-4987-804c-067740246a6c",
   "metadata": {},
   "outputs": [
    {
     "data": {
      "text/plain": [
       "[('assignment', [1, 2, 3, 4, 5, 6]),\n",
       " ('launch_date', [28, 30, 12]),\n",
       " ('class_time', {'web dev': 9, 'Java': 6, 'Data Science Masters': 8}),\n",
       " ('mentor', ['Sudhanshu', 'Krish', 'Anurag', 'Hyder'])]"
      ]
     },
     "execution_count": 60,
     "metadata": {},
     "output_type": "execute_result"
    }
   ],
   "source": [
    "list(d6.items())"
   ]
  },
  {
   "cell_type": "code",
   "execution_count": 61,
   "id": "53ef4488-5843-4978-8477-051f1e539172",
   "metadata": {},
   "outputs": [
    {
     "data": {
      "text/plain": [
       "[1, 2, 3, 4, 5, 6]"
      ]
     },
     "execution_count": 61,
     "metadata": {},
     "output_type": "execute_result"
    }
   ],
   "source": [
    "d6.pop('assignment')"
   ]
  },
  {
   "cell_type": "code",
   "execution_count": 66,
   "id": "e524d65d-e8d4-4357-ba5c-a8a9964b7709",
   "metadata": {},
   "outputs": [
    {
     "data": {
      "text/plain": [
       "{'launch_date': [28, 30, 12],\n",
       " 'class_time': {'web dev': 9, 'Java': 6, 'Data Science Masters': 8},\n",
       " 'mentor': ['Sudhanshu', 'Krish', 'Anurag', 'Hyder']}"
      ]
     },
     "execution_count": 66,
     "metadata": {},
     "output_type": "execute_result"
    }
   ],
   "source": [
    "d6"
   ]
  },
  {
   "cell_type": "code",
   "execution_count": 40,
   "id": "f1d4baba-2878-4f3e-bed0-286af6fed659",
   "metadata": {},
   "outputs": [
    {
     "name": "stdin",
     "output_type": "stream",
     "text": [
      "enter your marks  81\n"
     ]
    },
    {
     "name": "stdout",
     "output_type": "stream",
     "text": [
      "you will be a part of A0 batch\n"
     ]
    }
   ],
   "source": [
    "marks = int(input(\"enter your marks \"))\n",
    "if marks >= 80:\n",
    "    print(\"you will be a part of A0 batch\")\n",
    "elif marks >=60 and marks < 80:\n",
    "    print(\"you will be a part of A1 batch\")\n",
    "elif marks >=40 and marks < 60:\n",
    "    print(\"you will be a part of A2 batch\")\n",
    "else : \n",
    "    print(\"you will be a part of A3 batch\")\n",
    "    "
   ]
  },
  {
   "cell_type": "code",
   "execution_count": 41,
   "id": "fcdb5043-b89d-460d-9676-64bf1f821eed",
   "metadata": {},
   "outputs": [
    {
     "name": "stdin",
     "output_type": "stream",
     "text": [
      "enter your marks  50\n"
     ]
    }
   ],
   "source": [
    "marks = int(input(\"enter your marks \"))"
   ]
  },
  {
   "cell_type": "code",
   "execution_count": 42,
   "id": "220586ba-12f5-4197-87de-ecc52b83520e",
   "metadata": {},
   "outputs": [
    {
     "data": {
      "text/plain": [
       "50"
      ]
     },
     "execution_count": 42,
     "metadata": {},
     "output_type": "execute_result"
    }
   ],
   "source": [
    "marks"
   ]
  },
  {
   "cell_type": "code",
   "execution_count": 43,
   "id": "80d64490-40de-4d6e-9c17-5cac9e64497f",
   "metadata": {},
   "outputs": [
    {
     "data": {
      "text/plain": [
       "int"
      ]
     },
     "execution_count": 43,
     "metadata": {},
     "output_type": "execute_result"
    }
   ],
   "source": [
    "type(marks)"
   ]
  },
  {
   "cell_type": "code",
   "execution_count": 44,
   "id": "4710d73c-c302-4ca3-9b62-470ac13e22f8",
   "metadata": {},
   "outputs": [
    {
     "name": "stdin",
     "output_type": "stream",
     "text": [
      "enter your marks  99\n"
     ]
    }
   ],
   "source": [
    "marks = float(input(\"enter your marks \"))"
   ]
  },
  {
   "cell_type": "raw",
   "id": "89123267-af78-4e3d-a2e5-bd7229a00142",
   "metadata": {},
   "source": [
    "marks"
   ]
  },
  {
   "cell_type": "code",
   "execution_count": 45,
   "id": "a94c592e-ffbb-4564-bdc2-0ca0d07eb9c8",
   "metadata": {},
   "outputs": [
    {
     "data": {
      "text/plain": [
       "float"
      ]
     },
     "execution_count": 45,
     "metadata": {},
     "output_type": "execute_result"
    }
   ],
   "source": [
    "type(marks)"
   ]
  },
  {
   "cell_type": "code",
   "execution_count": 46,
   "id": "cc04f3c8-3d2b-47a5-8039-d636ff51d9b6",
   "metadata": {},
   "outputs": [
    {
     "name": "stdin",
     "output_type": "stream",
     "text": [
      "enter price  1001\n"
     ]
    },
    {
     "name": "stdout",
     "output_type": "stream",
     "text": [
      "I will not purchase\n"
     ]
    }
   ],
   "source": [
    "price = int(input(\"enter price \"))\n",
    "if price > 1000:\n",
    "    print(\"I will not purchase\")\n",
    "else : \n",
    "    print(\"I will purchase\")"
   ]
  },
  {
   "cell_type": "code",
   "execution_count": 47,
   "id": "348b9168-d4dd-48f8-af7c-97c080796957",
   "metadata": {},
   "outputs": [
    {
     "name": "stdin",
     "output_type": "stream",
     "text": [
      "enter price  999\n"
     ]
    },
    {
     "name": "stdout",
     "output_type": "stream",
     "text": [
      "I will purchase\n"
     ]
    }
   ],
   "source": [
    "price = int(input(\"enter price \"))\n",
    "if price > 1000:\n",
    "    print(\"I will not purchase\")\n",
    "else : \n",
    "    print(\"I will purchase\")"
   ]
  },
  {
   "cell_type": "code",
   "execution_count": 48,
   "id": "d002c625-365d-4722-b5cb-402edc9cbb60",
   "metadata": {},
   "outputs": [
    {
     "name": "stdin",
     "output_type": "stream",
     "text": [
      "enter price  5001\n"
     ]
    },
    {
     "name": "stdout",
     "output_type": "stream",
     "text": [
      "I will not purchase\n",
      "This is too much\n"
     ]
    }
   ],
   "source": [
    "price = int(input(\"enter price \"))\n",
    "if price > 1000:\n",
    "    print(\"I will not purchase\")\n",
    "    if price >5000:\n",
    "        print(\"This is too much\")\n",
    "else : \n",
    "    print(\"I will purchase\")"
   ]
  },
  {
   "cell_type": "code",
   "execution_count": 49,
   "id": "3db957e0-989d-4a8e-9dfb-892c19ea8da2",
   "metadata": {},
   "outputs": [
    {
     "name": "stdin",
     "output_type": "stream",
     "text": [
      "enter price  1999\n"
     ]
    },
    {
     "name": "stdout",
     "output_type": "stream",
     "text": [
      "I will not purchase\n",
      "Its Okay\n"
     ]
    }
   ],
   "source": [
    "price = int(input(\"enter price \"))\n",
    "if price > 1000:\n",
    "    print(\"I will not purchase\")\n",
    "    if price >5000:\n",
    "        print(\"This is too much\")\n",
    "    elif price <2000:\n",
    "        print(\"Its Okay\")\n",
    "else : \n",
    "    print(\"I will purchase\")"
   ]
  },
  {
   "cell_type": "code",
   "execution_count": 50,
   "id": "4118e481-174d-4667-b77b-e0251374b164",
   "metadata": {},
   "outputs": [
    {
     "name": "stdin",
     "output_type": "stream",
     "text": [
      "enter price  7800\n"
     ]
    },
    {
     "name": "stdout",
     "output_type": "stream",
     "text": [
      "I will not purchase\n",
      "This is too much\n"
     ]
    }
   ],
   "source": [
    "price = int(input(\"enter price \"))\n",
    "if price > 1000:\n",
    "    print(\"I will not purchase\")\n",
    "    if price >5000:\n",
    "        print(\"This is too much\")\n",
    "    elif price <2000:\n",
    "        print(\"Its Okay\")\n",
    "else : \n",
    "    print(\"I will purchase\")"
   ]
  },
  {
   "cell_type": "code",
   "execution_count": 51,
   "id": "6cec2072-70bb-4e27-92ca-287c7f7a5c23",
   "metadata": {},
   "outputs": [
    {
     "name": "stdin",
     "output_type": "stream",
     "text": [
      "enter price  2650\n"
     ]
    },
    {
     "name": "stdout",
     "output_type": "stream",
     "text": [
      "I will not purchase\n"
     ]
    }
   ],
   "source": [
    "price = int(input(\"enter price \"))\n",
    "if price > 1000:\n",
    "    print(\"I will not purchase\")\n",
    "    if price >5000:\n",
    "        print(\"This is too much\")\n",
    "    elif price <2000:\n",
    "        print(\"Its Okay\")\n",
    "else : \n",
    "    print(\"I will purchase\")"
   ]
  },
  {
   "cell_type": "code",
   "execution_count": 52,
   "id": "af82ca13-6498-46c3-b28e-88ccd38cf6d9",
   "metadata": {},
   "outputs": [
    {
     "name": "stdin",
     "output_type": "stream",
     "text": [
      "enter price  15000\n"
     ]
    },
    {
     "name": "stdout",
     "output_type": "stream",
     "text": [
      "I will not purchase\n",
      "This is too much\n"
     ]
    }
   ],
   "source": [
    "price = int(input(\"enter price \"))\n",
    "if price > 1000:\n",
    "    print(\"I will not purchase\")\n",
    "    if price >5000:\n",
    "        print(\"This is too much\")\n",
    "    elif price <2000:\n",
    "        print(\"Its Okay\")\n",
    "elif price < 1000:\n",
    "    print(\"I will purchase\")\n",
    "else : \n",
    "    print(\"not interested\")"
   ]
  },
  {
   "cell_type": "code",
   "execution_count": 53,
   "id": "ea4728ba-9b83-4de5-9fde-4a274d5ff5af",
   "metadata": {},
   "outputs": [],
   "source": [
    "#loop\n",
    "l = [1,2,3,4,5,6,7,8]"
   ]
  },
  {
   "cell_type": "code",
   "execution_count": 54,
   "id": "0423e4df-f6e5-44f9-b893-f9f6c0f2f73f",
   "metadata": {},
   "outputs": [
    {
     "data": {
      "text/plain": [
       "2"
      ]
     },
     "execution_count": 54,
     "metadata": {},
     "output_type": "execute_result"
    }
   ],
   "source": [
    "l[0] +1"
   ]
  },
  {
   "cell_type": "code",
   "execution_count": 60,
   "id": "5d90bd74-9084-442c-b9a1-b0a6bc27412c",
   "metadata": {},
   "outputs": [],
   "source": [
    "l1 = []"
   ]
  },
  {
   "cell_type": "code",
   "execution_count": 61,
   "id": "347079e7-5919-45cc-943f-7e89aec5143e",
   "metadata": {},
   "outputs": [],
   "source": [
    "l1.append(l[0] +1)"
   ]
  },
  {
   "cell_type": "code",
   "execution_count": 62,
   "id": "c90006e9-fbaa-4504-bc86-8625de981324",
   "metadata": {},
   "outputs": [
    {
     "data": {
      "text/plain": [
       "[2]"
      ]
     },
     "execution_count": 62,
     "metadata": {},
     "output_type": "execute_result"
    }
   ],
   "source": [
    "l1"
   ]
  },
  {
   "cell_type": "code",
   "execution_count": 72,
   "id": "f09b6a01-f028-43a3-a92e-1734d1a30c3b",
   "metadata": {},
   "outputs": [],
   "source": [
    "l = [1,2,3,4,5,6,7,8]"
   ]
  },
  {
   "cell_type": "code",
   "execution_count": 73,
   "id": "b18121fd-c783-4cc2-9c3b-515cf271d103",
   "metadata": {},
   "outputs": [
    {
     "data": {
      "text/plain": [
       "list"
      ]
     },
     "execution_count": 73,
     "metadata": {},
     "output_type": "execute_result"
    }
   ],
   "source": [
    "type(l)"
   ]
  },
  {
   "cell_type": "code",
   "execution_count": 69,
   "id": "49a8343f-15ae-434d-b82f-f7aa755ef7f5",
   "metadata": {},
   "outputs": [
    {
     "name": "stdout",
     "output_type": "stream",
     "text": [
      "1\n",
      "2\n",
      "3\n",
      "4\n",
      "5\n",
      "6\n",
      "7\n",
      "8\n"
     ]
    }
   ],
   "source": [
    "for kaushik in l :\n",
    "    print(kaushik)"
   ]
  },
  {
   "cell_type": "code",
   "execution_count": 47,
   "id": "7802bc30-8f5a-4dc6-bd1c-f3fcee941538",
   "metadata": {},
   "outputs": [
    {
     "data": {
      "text/plain": [
       "8"
      ]
     },
     "execution_count": 47,
     "metadata": {},
     "output_type": "execute_result"
    }
   ],
   "source": [
    "kaushik"
   ]
  },
  {
   "cell_type": "code",
   "execution_count": 48,
   "id": "f572e911-99f5-4184-84fb-6a61a08f6fa1",
   "metadata": {},
   "outputs": [
    {
     "data": {
      "text/plain": [
       "int"
      ]
     },
     "execution_count": 48,
     "metadata": {},
     "output_type": "execute_result"
    }
   ],
   "source": [
    "type(kaushik)"
   ]
  },
  {
   "cell_type": "code",
   "execution_count": 49,
   "id": "c6dcdcd2-c74d-423b-abb0-d696497a598d",
   "metadata": {},
   "outputs": [
    {
     "data": {
      "text/plain": [
       "int"
      ]
     },
     "execution_count": 49,
     "metadata": {},
     "output_type": "execute_result"
    }
   ],
   "source": [
    "type(8)"
   ]
  },
  {
   "cell_type": "code",
   "execution_count": 74,
   "id": "40292674-faec-44f3-ba8d-e1828afb7321",
   "metadata": {},
   "outputs": [
    {
     "name": "stdout",
     "output_type": "stream",
     "text": [
      "2\n",
      "3\n",
      "4\n",
      "5\n",
      "6\n",
      "7\n",
      "8\n",
      "9\n"
     ]
    },
    {
     "data": {
      "text/plain": [
       "[2, 3, 4, 5, 6, 7, 8, 9]"
      ]
     },
     "execution_count": 74,
     "metadata": {},
     "output_type": "execute_result"
    }
   ],
   "source": [
    "l1 = []\n",
    "for kaushik in l :\n",
    "    print(kaushik+1)\n",
    "    l1.append(kaushik+1)\n",
    "l1"
   ]
  },
  {
   "cell_type": "code",
   "execution_count": 75,
   "id": "ae9c1ba3-5191-4e07-adde-7a04b823f753",
   "metadata": {},
   "outputs": [
    {
     "data": {
      "text/plain": [
       "8"
      ]
     },
     "execution_count": 75,
     "metadata": {},
     "output_type": "execute_result"
    }
   ],
   "source": [
    "kaushik"
   ]
  },
  {
   "cell_type": "code",
   "execution_count": 76,
   "id": "a4fc9c82-baea-4f59-9bdf-cbfa7005ee54",
   "metadata": {},
   "outputs": [
    {
     "data": {
      "text/plain": [
       "[1, 2, 3, 4, 5, 6, 7, 8]"
      ]
     },
     "execution_count": 76,
     "metadata": {},
     "output_type": "execute_result"
    }
   ],
   "source": [
    "l"
   ]
  },
  {
   "cell_type": "code",
   "execution_count": 77,
   "id": "b221e0f0-9661-411d-ad09-e6e35d41013f",
   "metadata": {},
   "outputs": [],
   "source": [
    "l = [\"kaush\", \"yogesh\", \"course\", \"pwskills\"]"
   ]
  },
  {
   "cell_type": "code",
   "execution_count": 57,
   "id": "be1d3f46-25a5-45bc-814c-f56863906459",
   "metadata": {},
   "outputs": [
    {
     "name": "stdout",
     "output_type": "stream",
     "text": [
      "kaush\n",
      "yogesh\n",
      "course\n",
      "pwskills\n"
     ]
    }
   ],
   "source": [
    "for k in l:\n",
    "    print(k)"
   ]
  },
  {
   "cell_type": "code",
   "execution_count": 60,
   "id": "4c95a306-f8cd-4965-81e7-efdb9c5d38e9",
   "metadata": {},
   "outputs": [
    {
     "name": "stdout",
     "output_type": "stream",
     "text": [
      "kaush\n",
      "yogesh\n",
      "course\n",
      "pwskills\n"
     ]
    }
   ],
   "source": [
    "l1 = []\n",
    "for k in l:\n",
    "    print(k)\n",
    "    l1.append(k.upper())"
   ]
  },
  {
   "cell_type": "code",
   "execution_count": 61,
   "id": "0b4f1589-f082-4d97-bc6f-ae16c63db29c",
   "metadata": {},
   "outputs": [
    {
     "data": {
      "text/plain": [
       "['KAUSH', 'YOGESH', 'COURSE', 'PWSKILLS']"
      ]
     },
     "execution_count": 61,
     "metadata": {},
     "output_type": "execute_result"
    }
   ],
   "source": [
    "l1"
   ]
  },
  {
   "cell_type": "code",
   "execution_count": 62,
   "id": "09e61e16-0e64-46cb-8fbe-3f48419fcfbe",
   "metadata": {},
   "outputs": [
    {
     "name": "stdout",
     "output_type": "stream",
     "text": [
      "kaush\n",
      "yogesh\n",
      "course\n",
      "pwskills\n"
     ]
    }
   ],
   "source": [
    "l1 = []\n",
    "for k in l:\n",
    "    print(k)\n",
    "    l1.append(k.lower())"
   ]
  },
  {
   "cell_type": "code",
   "execution_count": 63,
   "id": "ce6a8f2f-ea13-4616-ac64-4e4af061b4d5",
   "metadata": {},
   "outputs": [
    {
     "data": {
      "text/plain": [
       "['kaush', 'yogesh', 'course', 'pwskills']"
      ]
     },
     "execution_count": 63,
     "metadata": {},
     "output_type": "execute_result"
    }
   ],
   "source": [
    "l1"
   ]
  },
  {
   "cell_type": "code",
   "execution_count": 64,
   "id": "29384260-8bef-4df6-bc0f-6066f9b4e093",
   "metadata": {},
   "outputs": [
    {
     "name": "stdout",
     "output_type": "stream",
     "text": [
      "kaush\n"
     ]
    },
    {
     "ename": "AttributeError",
     "evalue": "'str' object has no attribute 'capital'",
     "output_type": "error",
     "traceback": [
      "\u001b[0;31m---------------------------------------------------------------------------\u001b[0m",
      "\u001b[0;31mAttributeError\u001b[0m                            Traceback (most recent call last)",
      "Cell \u001b[0;32mIn[64], line 4\u001b[0m\n\u001b[1;32m      2\u001b[0m \u001b[38;5;28;01mfor\u001b[39;00m k \u001b[38;5;129;01min\u001b[39;00m l:\n\u001b[1;32m      3\u001b[0m     \u001b[38;5;28mprint\u001b[39m(k)\n\u001b[0;32m----> 4\u001b[0m     l1\u001b[38;5;241m.\u001b[39mappend(\u001b[43mk\u001b[49m\u001b[38;5;241;43m.\u001b[39;49m\u001b[43mcapital\u001b[49m())\n",
      "\u001b[0;31mAttributeError\u001b[0m: 'str' object has no attribute 'capital'"
     ]
    }
   ],
   "source": [
    "l1 = []\n",
    "for k in l:\n",
    "    print(k)\n",
    "    l1.append(k.capital())"
   ]
  },
  {
   "cell_type": "code",
   "execution_count": 30,
   "id": "1cbbff33-9348-49ff-ae84-063b79adc614",
   "metadata": {},
   "outputs": [
    {
     "ename": "NameError",
     "evalue": "name 'l' is not defined",
     "output_type": "error",
     "traceback": [
      "\u001b[0;31m---------------------------------------------------------------------------\u001b[0m",
      "\u001b[0;31mNameError\u001b[0m                                 Traceback (most recent call last)",
      "Cell \u001b[0;32mIn[30], line 2\u001b[0m\n\u001b[1;32m      1\u001b[0m l1 \u001b[38;5;241m=\u001b[39m []\n\u001b[0;32m----> 2\u001b[0m \u001b[38;5;28;01mfor\u001b[39;00m k \u001b[38;5;129;01min\u001b[39;00m \u001b[43ml\u001b[49m:\n\u001b[1;32m      3\u001b[0m     \u001b[38;5;28mprint\u001b[39m(k)\n\u001b[1;32m      4\u001b[0m     \u001b[38;5;28mlist\u001b[39m(l1\u001b[38;5;241m.\u001b[39mappend(k\u001b[38;5;241m.\u001b[39mcapital()))\n",
      "\u001b[0;31mNameError\u001b[0m: name 'l' is not defined"
     ]
    }
   ],
   "source": [
    "l1 = []\n",
    "for k in l:\n",
    "    print(k)\n",
    "    list(l1.append(k.capital()))\n",
    "l1"
   ]
  },
  {
   "cell_type": "code",
   "execution_count": 78,
   "id": "02cf1464-2312-4dff-b935-430e123e434e",
   "metadata": {},
   "outputs": [],
   "source": [
    "l = [1,2,3,4,5,7,7, \"kaushik\", \"yogesh\", 758, 35.648, 65.231, \"def\"]"
   ]
  },
  {
   "cell_type": "code",
   "execution_count": 79,
   "id": "9af9c6ed-9992-4994-b74b-4377106e184c",
   "metadata": {},
   "outputs": [
    {
     "data": {
      "text/plain": [
       "[1, 2, 3, 4, 5, 7, 7, 'kaushik', 'yogesh', 758, 35.648, 65.231, 'def']"
      ]
     },
     "execution_count": 79,
     "metadata": {},
     "output_type": "execute_result"
    }
   ],
   "source": [
    "l"
   ]
  },
  {
   "cell_type": "code",
   "execution_count": 80,
   "id": "e164c09c-dfb9-42e5-9e93-5b9917e1c36d",
   "metadata": {},
   "outputs": [],
   "source": [
    "l1_num = []\n",
    "l2_str = []\n",
    "for k in l :\n",
    "    if type(k) == int or type(k) == float : \n",
    "        l1_num.append(k)\n",
    "    else :\n",
    "        l2_str.append(k)"
   ]
  },
  {
   "cell_type": "code",
   "execution_count": 81,
   "id": "d02c680a-8741-4634-bdb7-a36e71003288",
   "metadata": {},
   "outputs": [
    {
     "data": {
      "text/plain": [
       "[1, 2, 3, 4, 5, 7, 7, 758, 35.648, 65.231]"
      ]
     },
     "execution_count": 81,
     "metadata": {},
     "output_type": "execute_result"
    }
   ],
   "source": [
    "l1_num"
   ]
  },
  {
   "cell_type": "code",
   "execution_count": 83,
   "id": "98a114d1-1a2d-43b0-9995-19651b01a7ad",
   "metadata": {},
   "outputs": [
    {
     "data": {
      "text/plain": [
       "['kaushik', 'yogesh', 'def']"
      ]
     },
     "execution_count": 83,
     "metadata": {},
     "output_type": "execute_result"
    }
   ],
   "source": [
    "l2_str\n"
   ]
  },
  {
   "cell_type": "code",
   "execution_count": null,
   "id": "dce4cd8c-b890-4e3a-9d12-b823485c6b4c",
   "metadata": {},
   "outputs": [],
   "source": []
  }
 ],
 "metadata": {
  "kernelspec": {
   "display_name": "Python 3 (ipykernel)",
   "language": "python",
   "name": "python3"
  },
  "language_info": {
   "codemirror_mode": {
    "name": "ipython",
    "version": 3
   },
   "file_extension": ".py",
   "mimetype": "text/x-python",
   "name": "python",
   "nbconvert_exporter": "python",
   "pygments_lexer": "ipython3",
   "version": "3.10.8"
  }
 },
 "nbformat": 4,
 "nbformat_minor": 5
}
